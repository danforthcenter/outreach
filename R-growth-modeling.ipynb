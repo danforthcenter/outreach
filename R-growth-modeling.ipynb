{
 "cells": [
  {
   "cell_type": "code",
   "execution_count": null,
   "metadata": {
    "collapsed": true
   },
   "outputs": [],
   "source": [
    "# Load packages\n",
    "library(ggplot2)\n",
    "library(nlme)\n",
    "library(mvtnorm)\n",
    "options(repr.plot.width=3, repr.plot.height=3)"
   ]
  },
  {
   "cell_type": "code",
   "execution_count": null,
   "metadata": {
    "collapsed": false
   },
   "outputs": [],
   "source": [
    "# Read the VIS snapshot data (with predicted biomass) from file\n",
    "vis.data = read.table(file=\"vis_snapshots_with_biomass.csv\", sep=\",\", header=TRUE)"
   ]
  },
  {
   "cell_type": "code",
   "execution_count": null,
   "metadata": {
    "collapsed": true
   },
   "outputs": [],
   "source": [
    "# Extract S. viridis A10 and S. italica B100, water treatments 100% and 33% full-capacity\n",
    "vis.subset = vis.data[(vis.data$genotype == 'A10' | vis.data$genotype == 'B100') &\n",
    "                      (vis.data$treatment == 100 | vis.data$treatment == 33),]"
   ]
  },
  {
   "cell_type": "code",
   "execution_count": null,
   "metadata": {
    "collapsed": false
   },
   "outputs": [],
   "source": [
    "# Plot fresh-weight biomass for S. viridis and S. italica water treatments 100% and 33% full-capacity\n",
    "ggplot(vis.subset, aes(x=dap, y=fw_biomass, color=factor(group))) +\n",
    "    geom_point(size=1) +\n",
    "    geom_smooth(method=\"loess\",size=1) +\n",
    "    scale_x_continuous(name=\"Days after planting\") +\n",
    "    scale_y_continuous(lim=c(-1,41), name=\"Estimated biomass (g)\") +\n",
    "    theme_bw() +\n",
    "    theme(legend.position=c(0.25,0.75),\n",
    "          axis.title.x=element_text(face=\"bold\"),\n",
    "          axis.title.y=element_text(face=\"bold\")) +\n",
    "          labs(color=\"GxM\")"
   ]
  },
  {
   "cell_type": "code",
   "execution_count": null,
   "metadata": {
    "collapsed": true
   },
   "outputs": [],
   "source": [
    "# Growth curve analysis\n",
    "# First load three functions for non-linear growth curve analysis reproduced from:\n",
    "# Paine CET, Marthews TR, Vogt DR, Purves D, Rees M, Hector A, Turnbull LA (2012)\n",
    "# How to fit nonlinear plant growth models and calculate growth rates: an update for ecologists.\n",
    "# Methods in Ecology and Evolution 3: 245–256. doi: 10.1111/j.2041-210X.2011.00155.x\n",
    "output.logis.nlsList <- function(fit, times, CI = F, LOG = F, alpha = 0.05){\n",
    "  coef <- coef(fit)\n",
    "  params <- transform_param.logis(coef)\n",
    "  rates <- list()\n",
    "  groups <- rownames(params)\n",
    "  n.groups <- nrow(coef)\n",
    "  \n",
    "  # compute rates for each group seperately\n",
    "  rates <- list()\n",
    "  for(i in 1:(n.groups)){\n",
    "    K <- params[i,1]; r <- params[i,2]; M0 <- params[i,3]\n",
    "    rates[[i]] = data.frame(\n",
    "      times = times,\n",
    "      M    = (M0*K)/(M0+(K-M0)*exp(-r*times)),\n",
    "      AGR  = (r*M0*K*(K-M0)*exp(-r*times))/(M0+(K-M0)*exp(-r*times))^2\n",
    "    )\n",
    "    rates[[i]]$RGRt <- rates[[i]]$AGR/rates[[i]]$M\n",
    "    rates[[i]]$RGRm <- r*(1 - rates[[i]]$M/K)\n",
    "    if(LOG == T){\n",
    "      rates[[i]]$RGRt <- rates[[i]]$AGR\n",
    "      rates[[i]]$RGRm <- r*rates[[i]]$M*(1-rates[[i]]$M/K)\n",
    "      rates[[i]]$AGR  <- rates[[i]]$AGR*exp(rates[[i]]$M)\n",
    "    }\n",
    "    # commute CIs for each group's estaimates, if desired\n",
    "    if(CI == T){\n",
    "      cov   <- summary(fit)$cov[i,,]\n",
    "      x <- y <- data.frame(rmvnorm(n=1000, mean=c(coef[i, 1], coef[i, 2], coef[i, 3]), sigma=cov))\n",
    "      x$K  <- y[,1]\n",
    "      x$r  <- 1/y[,3]\n",
    "      x$M0 <- y[,1]/(1 + exp(y[,2]/y[,3])) \n",
    "      M <- AGR <- RGRt <- RGRm <- matrix(NA, ncol = length(times), nrow = nrow(x))\n",
    "      for(j in 1:nrow(x)){\n",
    "        K <- x[j,4]; r <- x[j,5]; M0 <- x[j,6]\n",
    "        M[j,]     <- (M0*K)/(M0+(K-M0)*exp(-r*times))\n",
    "        AGR[j,]   <- (r*M0*K*(K-M0)*exp(-r*times))/(M0+(K-M0)*exp(-r*times))^2\n",
    "        RGRt[j,]  <- AGR[j,]/M[j,]\n",
    "        RGRm[j,]  <- r*(1 - M[j,]/K)\n",
    "        if(LOG ==T){\n",
    "          RGRt[j,] <- AGR[j,]\n",
    "          RGRm[j,] <- r*M[j,]*(1 - M[j,]/K)\n",
    "          AGR[j,]  <- AGR[j,]*exp(M[j,])\n",
    "        }\n",
    "      }\n",
    "    }\n",
    "    CIs <- summarizer(list(M = M, AGR = AGR, RGRt = RGRt, RGRm = RGRm), alpha)\n",
    "    rates[[i]]  <-  cbind(rates[[i]], CIs)\n",
    "  }\n",
    "  names(rates) <- rownames(params)\n",
    "  \n",
    "  # now compute differences among groups\n",
    "  diffs <- list()\n",
    "  for(i in 1:(n.groups-1)){\n",
    "    Ki <- params[i,1]; ri <- params[i,2]; M0i <- params[i,3]\n",
    "    for(j in (i+1):n.groups){\n",
    "      Kj <- params[j,1]; rj <- params[j,2]; M0j <- params[j,3]\n",
    "      diffs.ij = data.frame(\n",
    "        times = times,\n",
    "        diffM     = rates[[i]]$M    - rates[[j]]$M,\n",
    "        diffAGR   = rates[[i]]$AGR  - rates[[j]]$AGR,\n",
    "        diffRGRt  = rates[[i]]$RGRt - rates[[j]]$RGRt\n",
    "      )\n",
    "      # comparing RGRm has to be done on a biomass basis. So it needs special treatment. First, we aev to know what range of biomasses are shared between groups.\n",
    "      Mmin <- max(min(rates[[i]]$M), min(rates[[j]]$M)) # yieds the range of overlapping masses between groups i & j\n",
    "      Mmax <- min(max(rates[[i]]$M), max(rates[[j]]$M))\n",
    "      #diffs.ij$Mseq <- seq(Mmin, Mmax, length = 100)\n",
    "      diffs.ij$Mseq <- seq(Mmin, Mmax, length = length(times))\n",
    "      if(LOG == F){\n",
    "        diffs.ij$diffRGRm  <- ri*(1 - diffs.ij$Mseq/Ki) - rj*(1 - diffs.ij$Mseq/Kj)\n",
    "      } else{\n",
    "        diffs.ij$diffRGRm <- ri*diffs.ij$Mseq*(1 - diffs.ij$Mseq/Ki) - rj*Mseq*(1 - diffs.ij$Mseq/Kj)\n",
    "      }    \n",
    "      \n",
    "    }\n",
    "    if(CI == T){\n",
    "      # get params for group i\n",
    "      covi   <- summary(fit)$cov[i,,]\n",
    "      xi <- yi <- data.frame(rmvnorm(n=1000, mean=c(coef[i, 1], coef[i, 2], coef[i, 3]), sigma=covi))\n",
    "      xi$K  <- yi[,1]\n",
    "      xi$r  <- 1/yi[,3]\n",
    "      xi$M0 <- yi[,1]/(1 + exp(yi[,2]/yi[,3])) \n",
    "      \n",
    "      # get params for group j\n",
    "      covj   <- summary(fit)$cov[j,,]\n",
    "      xj <- yj <- data.frame(rmvnorm(n=1000, mean=c(coef[j, 1], coef[j, 2], coef[j, 3]), sigma=covj))\n",
    "      xj$K  <- yj[,1]\n",
    "      xj$r  <- 1/yj[,3]\n",
    "      xj$M0 <- yj[,1]/(1 + exp(yj[,2]/yj[,3])) \n",
    "      \n",
    "      # now compute diffs for each random set of drawn parameters\n",
    "      Mi <- Mj <- AGRi <- AGRj <- RGRti <- RGRtj <- RGRmi <- RGRmj <- diffM <- diffAGR <- diffRGRt <- diffRGRm <- matrix(NA, ncol = length(times), nrow = nrow(xi))\n",
    "      for(k in 1:nrow(xi)){\n",
    "        Ki <- xi[k,4]; ri <- xi[k,5]; M0i <- xi[k,6]\n",
    "        Kj <- xj[k,4]; rj <- xj[k,5]; M0j <- xj[k,6]\n",
    "        Mi[k,]    <- (M0i*Ki)/(M0i+(Ki-M0i)*exp(-ri*times))\n",
    "        Mj[k,]    <- (M0j*Kj)/(M0j+(Kj-M0j)*exp(-rj*times))\n",
    "        AGRi[k,]  <- (ri*M0i*Ki*(Ki-M0i)*exp(-ri*times))/(M0i+(Ki-M0i)*exp(-ri*times))^2\n",
    "        AGRj[k,]  <- (rj*M0j*Kj*(Kj-M0j)*exp(-rj*times))/(M0j+(Kj-M0j)*exp(-rj*times))^2\n",
    "        RGRti[k,] <- AGRi[k,]/Mi[k,]\n",
    "        RGRtj[k,] <- AGRj[k,]/Mj[k,]\n",
    "        RGRmi[k,] <- ri*(1 - diffs.ij$Mseq/Ki)\n",
    "        RGRmj[k,] <- rj*(1 - diffs.ij$Mseq/Kj)\n",
    "        if(LOG == T){\n",
    "          RGRti[k,] <- AGRi[k,]\n",
    "          RGRtj[k,] <- AGRj[k,]\n",
    "          RGRmi[k,] <- ri*diffs.ij$Mseq*(1 - diffs.ij$Mseq/Ki)\n",
    "          RGRmj[k,] <- rj*diffs.ij$Mseq*(1 - diffs.ij$Mseq/Kj)\n",
    "          AGRi[k,]  <- AGRi[k,]*exp(Mi[k,])\n",
    "          AGRj[k,]  <- AGRj[k,]*exp(Mj[k,])\n",
    "        }\n",
    "        diffM[k,]    <- Mi[k,]    - Mj[k,]\n",
    "        diffAGR[k,]  <- AGRi[k,]  - AGRj[k,]\n",
    "        diffRGRt[k,] <- RGRti[k,] - RGRtj[k,]\n",
    "        diffRGRm[k,] <- RGRmi[k,] - RGRmj[k,]\n",
    "      }\n",
    "      CIs <- summarizer(list(diffM = diffM, diffAGR = diffAGR, diffRGRt = diffRGRt, diffRGRm = diffRGRm), alpha)\n",
    "      diffs[[paste(groups[i], groups[j], sep = \"_\")]]  <-  cbind(diffs.ij, CIs)\n",
    "    } else{\n",
    "      diffs[[paste(groups[i], groups[j], sep = \"_\")]]  <-  diffs.ij\n",
    "    }\n",
    "  } # end loop over pairwise combinations of groups\n",
    "  \n",
    "  out <- list(params = params, rates = rates, diffs = diffs)\n",
    "  return(out)\n",
    "}\n",
    "\n",
    "transform_param.logis <- function(coef){\n",
    "  K = coef[1]\n",
    "  r = 1/(coef[3])\n",
    "  M0 =  K/(1 + exp(coef[2]/coef[3])) #untransform best-fit parameters to K, r and M0\n",
    "  if(is.data.frame(K)){\n",
    "    out <- cbind(K, r, M0)\n",
    "  } else {\n",
    "    out <- c(K, r, M0)\n",
    "  }\n",
    "  names(out) <- c(\"K\", \"r\", \"M0\")\n",
    "  return(out)\n",
    "}\n",
    "\n",
    "# this function returns confidence envelopes around growth trajectories, and growth rates. \n",
    "summarizer <- function(dat, alpha){\n",
    "  n <- length(dat)\n",
    "  quantiles <- c(alpha/2, 1-(alpha/2))\n",
    "  CIs <- data.frame(matrix(NA, ncol(dat[[1]]), n*2))\n",
    "  names(CIs) <- paste(rep(names(dat), each = 2), c(\"lo\", \"hi\"), sep = \".\")\n",
    "  for(i in 1:n){\n",
    "    CIs[,(2*i-1):(2*i)] <- t(apply(dat[[i]],    2, quantile, quantiles, na.rm = T))\n",
    "  }\n",
    "  return(CIs)\n",
    "}"
   ]
  },
  {
   "cell_type": "code",
   "execution_count": null,
   "metadata": {
    "collapsed": false
   },
   "outputs": [],
   "source": [
    "# Group data\n",
    "vis.grouped = groupedData(fw_biomass ~ dap | group, vis.subset)"
   ]
  },
  {
   "cell_type": "code",
   "execution_count": null,
   "metadata": {
    "collapsed": true
   },
   "outputs": [],
   "source": [
    "# Fit three-component logistic functions for each genotype x treatment group\n",
    "fit.logis = nlsList(fw_biomass ~ SSlogis(dap, Asym, xmid, scal), data = vis.grouped)"
   ]
  },
  {
   "cell_type": "code",
   "execution_count": null,
   "metadata": {
    "collapsed": false
   },
   "outputs": [],
   "source": [
    "# Output estimated growth rate parameters at even time intervals\n",
    "est.interval = seq(min(vis.subset$dap), max(vis.subset$dap), length = 100)\n",
    "out.fit.logis = output.logis.nlsList(fit.logis, times = est.interval, CI = TRUE, LOG = FALSE, alpha = 0.05)"
   ]
  },
  {
   "cell_type": "code",
   "execution_count": null,
   "metadata": {
    "collapsed": true
   },
   "outputs": [],
   "source": [
    "# Plot logistic growth models for *S. viridis* and *S. italica* and absolute growth rates over time\n",
    "parent.groups = c(\"A10-100\", \"A10-33\", \"B100-100\", \"B100-33\")\n",
    "group.colors = c(\"#F8766D\", \"#7CAE00\", \"#00BFC4\", \"#C77CFF\")\n",
    "group.order = names(out.fit.logis$rates)\n",
    "gca.plot = ggplot(vis.subset, aes(x=dap, y=fw_biomass, color=factor(group))) +\n",
    "                  geom_point(size=1) +\n",
    "                  scale_x_continuous(name=\"Days after planting\") +\n",
    "                  scale_y_continuous(lim=c(-1,41), name=\"Estimated biomass (g)\") +\n",
    "                  theme_bw() +\n",
    "                  theme(legend.position=c(0.2,0.8),\n",
    "                        axis.title.x=element_text(face=\"bold\"),\n",
    "                        axis.title.y=element_text(face=\"bold\")) +\n",
    "                  scale_colour_manual(name='GxM',\n",
    "                                      values=group.colors, labels=parent.groups)\n",
    "\n",
    "agr.plot = ggplot() + \n",
    "           scale_x_continuous(name=\"Days after planting\") +\n",
    "           scale_y_continuous(name=\"Absolute growth rate (g/day)\") +\n",
    "           theme_bw() +\n",
    "           theme(legend.position=c(0.2,0.8),\n",
    "                 axis.title.x=element_text(face=\"bold\"),\n",
    "                 axis.title.y=element_text(face=\"bold\")) +\n",
    "           scale_colour_manual(name='GxM', values=group.colors, labels=parent.groups)"
   ]
  },
  {
   "cell_type": "code",
   "execution_count": null,
   "metadata": {
    "collapsed": true
   },
   "outputs": [],
   "source": [
    "# Add logistic growth models and confidence intervals\n",
    "for(g in 1:length(parent.groups)) {\n",
    "    group = parent.groups[g]\n",
    "    i = match(group, group.order)\n",
    "    group.rates = as.data.frame(out.fit.logis$rates[i])\n",
    "    col.name = gsub('-', '.', group)\n",
    "    conf.int = data.frame(x=c(group.rates[,paste(col.name, '.times', sep='')],\n",
    "                          rev(group.rates[,paste(col.name, '.times', sep='')])),\n",
    "                          y=c(group.rates[,paste(col.name, '.M.lo', sep='')],\n",
    "                          rev(group.rates[,paste(col.name, '.M.hi', sep='')])))\n",
    "    agr.conf.int = data.frame(x=c(group.rates[,paste(col.name, '.times', sep='')],\n",
    "                              rev(group.rates[,paste(col.name, '.times', sep='')])),\n",
    "                              y=c(group.rates[,paste(col.name, '.AGR.lo', sep='')],\n",
    "                              rev(group.rates[,paste(col.name, '.AGR.hi', sep='')])))\n",
    "    gca.plot = gca.plot + geom_polygon(data=conf.int, aes(x=x, y=y), fill='gray60', color=NA, alpha=0.4) +\n",
    "                          geom_line(data=group.rates, aes_string(x=paste(col.name, '.times', sep=''),\n",
    "                                           y=paste(col.name, '.M', sep='')), color=group.colors[g])\n",
    "\n",
    "    agr.plot = agr.plot + geom_polygon(data=agr.conf.int, aes(x=x, y=y), fill='gray60', color=NA, alpha=0.4) +\n",
    "                          geom_line(data=group.rates, aes_string(x=paste(col.name, '.times', sep=''),\n",
    "                                           y=paste(col.name, '.AGR', sep='')), color=group.colors[g])\n",
    "}"
   ]
  },
  {
   "cell_type": "code",
   "execution_count": null,
   "metadata": {
    "collapsed": false
   },
   "outputs": [],
   "source": [
    "print(gca.plot)"
   ]
  },
  {
   "cell_type": "code",
   "execution_count": null,
   "metadata": {
    "collapsed": false
   },
   "outputs": [],
   "source": [
    "print(agr.plot)"
   ]
  },
  {
   "cell_type": "code",
   "execution_count": null,
   "metadata": {
    "collapsed": true
   },
   "outputs": [],
   "source": []
  }
 ],
 "metadata": {
  "kernelspec": {
   "display_name": "R",
   "language": "R",
   "name": "ir"
  },
  "language_info": {
   "codemirror_mode": "r",
   "file_extension": ".r",
   "mimetype": "text/x-r-source",
   "name": "R",
   "pygments_lexer": "r",
   "version": "3.3.0"
  }
 },
 "nbformat": 4,
 "nbformat_minor": 1
}
