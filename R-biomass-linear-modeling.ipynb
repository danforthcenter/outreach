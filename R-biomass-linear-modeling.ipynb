{
 "cells": [
  {
   "cell_type": "code",
   "execution_count": null,
   "metadata": {
    "collapsed": true
   },
   "outputs": [],
   "source": [
    "# Load packages\n",
    "library(ggplot2)\n",
    "library(MASS)\n",
    "options(repr.plot.width=3, repr.plot.height=3)"
   ]
  },
  {
   "cell_type": "code",
   "execution_count": null,
   "metadata": {
    "collapsed": true
   },
   "outputs": [],
   "source": [
    "# Read the cleaned VIS snapshot data from file\n",
    "vis.data = read.table(file=\"vis_snapshots_cleaned.csv\", sep=\",\", header=TRUE)"
   ]
  },
  {
   "cell_type": "code",
   "execution_count": null,
   "metadata": {
    "collapsed": true
   },
   "outputs": [],
   "source": [
    "# Read biomass data from manually measured plants\n",
    "manual.st.data = read.table(file='./data/manual_biomass_samples.csv', sep=\",\", header=TRUE, stringsAsFactors=FALSE)"
   ]
  },
  {
   "cell_type": "code",
   "execution_count": null,
   "metadata": {
    "collapsed": true
   },
   "outputs": [],
   "source": [
    "# Extract the image data for each sampled plant from the cleaned VIS data set\n",
    "st.data = merge(manual.st.data, vis.data, by = c('plant_id', 'datetime'))"
   ]
  },
  {
   "cell_type": "code",
   "execution_count": null,
   "metadata": {
    "collapsed": true
   },
   "outputs": [],
   "source": [
    "# Create an out-of-frame indicator variable\n",
    "st.data$outind = NA\n",
    "st.data[st.data$outlier == 'True',]$outind = 1\n",
    "st.data[st.data$outlier == 'False',]$outind = 0"
   ]
  },
  {
   "cell_type": "code",
   "execution_count": null,
   "metadata": {
    "collapsed": true
   },
   "outputs": [],
   "source": [
    "# Create a genotype indicator variable\n",
    "st.data$group = NA\n",
    "st.data[st.data$genotype == 'A10',]$group = 0\n",
    "st.data[st.data$genotype == 'B100',]$group = 1"
   ]
  },
  {
   "cell_type": "code",
   "execution_count": null,
   "metadata": {
    "collapsed": false
   },
   "outputs": [],
   "source": [
    "# Full linear model for fresh-weight biomass. Includes side-view area, top-view area and height\n",
    "fw.full = lm(fresh_weight ~ sv_area * tv_area * height_above_bound, st.data)\n",
    "summary(fw.full)"
   ]
  },
  {
   "cell_type": "code",
   "execution_count": null,
   "metadata": {
    "collapsed": false
   },
   "outputs": [],
   "source": [
    "# Automated step-wise model selection with AIC\n",
    "fw.step = stepAIC(fw.full, direction=\"both\")\n",
    "summary(fw.step)"
   ]
  },
  {
   "cell_type": "code",
   "execution_count": null,
   "metadata": {
    "collapsed": false
   },
   "outputs": [],
   "source": [
    "# Build AIC model\n",
    "fw.aic = lm(fresh_weight ~ sv_area + height_above_bound, st.data)\n",
    "summary(fw.aic)"
   ]
  },
  {
   "cell_type": "code",
   "execution_count": null,
   "metadata": {
    "collapsed": false
   },
   "outputs": [],
   "source": [
    "# The AIC model contains heigh_above_bound which does not have a significant coefficient, test dropping\n",
    "fw.red = lm(fresh_weight ~ sv_area, st.data)\n",
    "summary(fw.red)"
   ]
  },
  {
   "cell_type": "code",
   "execution_count": null,
   "metadata": {
    "collapsed": false
   },
   "outputs": [],
   "source": [
    "# Goodness of fit test\n",
    "anova(fw.aic, fw.red)"
   ]
  },
  {
   "cell_type": "code",
   "execution_count": null,
   "metadata": {
    "collapsed": false
   },
   "outputs": [],
   "source": [
    "# Side-view area model\n",
    "sv.model = lm(fresh_weight ~ sv_area, st.data)\n",
    "summary(sv.model)"
   ]
  },
  {
   "cell_type": "code",
   "execution_count": null,
   "metadata": {
    "collapsed": false
   },
   "outputs": [],
   "source": [
    "# Plot fresh-weight biomass linear model\n",
    "ggplot(st.data,aes(x=sv_area/1e5, y=fresh_weight)) + \n",
    "    geom_smooth(method=\"lm\", color=\"black\", formula = y ~ x) +\n",
    "    geom_point(size=2.5) +\n",
    "    scale_x_continuous(\"Shoot and leaf area (x10^5 px)\") +\n",
    "    scale_y_continuous(\"Fresh-weight biomass (g)\") +\n",
    "    theme_bw() +\n",
    "    theme(axis.title.x=element_text(face=\"bold\"),\n",
    "          axis.title.y=element_text(face=\"bold\"))"
   ]
  },
  {
   "cell_type": "code",
   "execution_count": null,
   "metadata": {
    "collapsed": false
   },
   "outputs": [],
   "source": [
    "# Can we improve the biomass model by accounting for plants grown out of frame?\n",
    "sv.ind.model = lm(fresh_weight ~ sv_area + outind, st.data)\n",
    "summary(sv.ind.model)\n",
    "anova(sv.model, sv.ind.model)"
   ]
  },
  {
   "cell_type": "code",
   "execution_count": null,
   "metadata": {
    "collapsed": false
   },
   "outputs": [],
   "source": [
    "# Plot fresh-weight biomass linear model with out-of-frame\n",
    "ggplot(st.data, aes(x=sv_area/1e5, y=fresh_weight, group=outlier, color=outlier)) +\n",
    "    geom_point(size=2.5) +\n",
    "    geom_smooth(method=\"lm\", color=\"black\") +\n",
    "    scale_x_continuous(\"Shoot and leaf area (x10^5 px)\") +\n",
    "    scale_y_continuous(\"Fresh-weight biomass (g)\") +\n",
    "    theme_bw() +\n",
    "    theme(legend.position=c(0.2,0.8),\n",
    "          axis.title.x=element_text(face=\"bold\"),\n",
    "          axis.title.y=element_text(face=\"bold\")) +\n",
    "          labs(color=\"Out-of-frame\")"
   ]
  },
  {
   "cell_type": "code",
   "execution_count": null,
   "metadata": {
    "collapsed": false
   },
   "outputs": [],
   "source": [
    "# Does our ability to predict biomass depend on genotype?\n",
    "sv.gt.model = lm(fresh_weight ~ sv_area + group, st.data)\n",
    "summary(sv.gt.model)"
   ]
  },
  {
   "cell_type": "code",
   "execution_count": null,
   "metadata": {
    "collapsed": false
   },
   "outputs": [],
   "source": [
    "# Plot the fresh-weight linear model with genotype\n",
    "ggplot(st.data, aes(x=sv_area/1e5, y=fresh_weight, group=genotype, color=genotype)) +\n",
    "    geom_point(size=2.5) +\n",
    "    geom_smooth(method=\"lm\", color=\"black\") +\n",
    "    scale_x_continuous(\"Shoot and leaf area (x10^5 px)\") +\n",
    "    scale_y_continuous(\"Fresh-weight biomass (g)\") +\n",
    "    theme_bw() +\n",
    "    theme(legend.position=c(0.2,0.8),\n",
    "          axis.title.x=element_text(face=\"bold\"),\n",
    "          axis.title.y=element_text(face=\"bold\")) +\n",
    "          labs(color=\"Genotype\")"
   ]
  },
  {
   "cell_type": "code",
   "execution_count": null,
   "metadata": {
    "collapsed": false
   },
   "outputs": [],
   "source": [
    "# Dry-weight biomass\n",
    "dry.sv.model = lm(dry_weight ~ sv_area, st.data)\n",
    "summary(dry.sv.model)"
   ]
  },
  {
   "cell_type": "code",
   "execution_count": null,
   "metadata": {
    "collapsed": false
   },
   "outputs": [],
   "source": [
    "# Plot dry-weight biomass model\n",
    "ggplot(st.data,aes(x=sv_area/1e5, y=dry_weight)) +\n",
    "    geom_smooth(method=\"lm\", color=\"black\", formula = y ~ x) +\n",
    "    geom_point(size=2.5) +\n",
    "    scale_x_continuous(\"Shoot and leaf area (x10^5 px)\") +\n",
    "    scale_y_continuous(\"Dry-weight biomass (g)\") +\n",
    "    theme_bw() +\n",
    "    theme(axis.title.x=element_text(face=\"bold\"),\n",
    "          axis.title.y=element_text(face=\"bold\"))"
   ]
  },
  {
   "cell_type": "code",
   "execution_count": null,
   "metadata": {
    "collapsed": true
   },
   "outputs": [],
   "source": [
    "# Use the biomass models to predict biomass for plants not manually measured\n",
    "# Remove plants that were sampled for biomass measurements\n",
    "vis.data = vis.data[!vis.data$plant_id %in% st.data$plant_id,]"
   ]
  },
  {
   "cell_type": "code",
   "execution_count": null,
   "metadata": {
    "collapsed": true
   },
   "outputs": [],
   "source": [
    "# Predict fresh- and dry-weight biomass from linear models\n",
    "vis.data$fw_biomass = predict.lm(object = sv.model, newdata=vis.data)\n",
    "vis.data$dw_biomass = predict.lm(object = dry.sv.model, newdata=vis.data)"
   ]
  },
  {
   "cell_type": "code",
   "execution_count": null,
   "metadata": {
    "collapsed": true
   },
   "outputs": [],
   "source": [
    "# Write the updated table to a file\n",
    "write.table(vis.data, file = \"vis_snapshots_with_biomass.csv\", quote = FALSE, sep = \",\")"
   ]
  },
  {
   "cell_type": "code",
   "execution_count": null,
   "metadata": {
    "collapsed": true
   },
   "outputs": [],
   "source": []
  }
 ],
 "metadata": {
  "kernelspec": {
   "display_name": "R",
   "language": "R",
   "name": "ir"
  },
  "language_info": {
   "codemirror_mode": "r",
   "file_extension": ".r",
   "mimetype": "text/x-r-source",
   "name": "R",
   "pygments_lexer": "r",
   "version": "3.3.0"
  }
 },
 "nbformat": 4,
 "nbformat_minor": 1
}
