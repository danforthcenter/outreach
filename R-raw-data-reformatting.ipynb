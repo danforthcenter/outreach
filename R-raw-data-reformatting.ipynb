{
 "cells": [
  {
   "cell_type": "code",
   "execution_count": null,
   "metadata": {
    "collapsed": true
   },
   "outputs": [],
   "source": [
    "# Define variables\n",
    "planting_date = as.POSIXct(\"2013-11-26\")"
   ]
  },
  {
   "cell_type": "code",
   "execution_count": null,
   "metadata": {
    "collapsed": true
   },
   "outputs": [],
   "source": [
    "# Read data from file\n",
    "vis.data = read.table(file=\"./data/vis_snapshots_nocorrect.csv\", sep=\",\", header=TRUE)"
   ]
  },
  {
   "cell_type": "code",
   "execution_count": null,
   "metadata": {
    "collapsed": true
   },
   "outputs": [],
   "source": [
    "# Add water treatment column coded in barcodes\n",
    "vis.data$treatment <- NA\n",
    "vis.data$treatment[grep(\"AA\", vis.data$plant_id)] <- 100\n",
    "vis.data$treatment[grep(\"AB\", vis.data$plant_id)] <- 0\n",
    "vis.data$treatment[grep(\"AC\", vis.data$plant_id)] <- 16\n",
    "vis.data$treatment[grep(\"AD\", vis.data$plant_id)] <- 33\n",
    "vis.data$treatment[grep(\"AE\", vis.data$plant_id)] <- 66"
   ]
  },
  {
   "cell_type": "code",
   "execution_count": null,
   "metadata": {
    "collapsed": true
   },
   "outputs": [],
   "source": [
    "# Add plant genotype column coded in barcodes\n",
    "vis.data$genotype <- NA\n",
    "vis.data$genotype[grep(\"p1\", vis.data$plant_id)] <- 'A10'\n",
    "vis.data$genotype[grep(\"p2\", vis.data$plant_id)] <- 'B100'\n",
    "vis.data$genotype[grep(\"r1\", vis.data$plant_id)] <- 'R20'\n",
    "vis.data$genotype[grep(\"r2\", vis.data$plant_id)] <- 'R70'\n",
    "vis.data$genotype[grep(\"r3\", vis.data$plant_id)] <- 'R98'\n",
    "vis.data$genotype[grep(\"r4\", vis.data$plant_id)] <- 'R102'\n",
    "vis.data$genotype[grep(\"r5\", vis.data$plant_id)] <- 'R128'\n",
    "vis.data$genotype[grep(\"r6\", vis.data$plant_id)] <- 'R133'\n",
    "vis.data$genotype[grep(\"r7\", vis.data$plant_id)] <- 'R161'\n",
    "vis.data$genotype[grep(\"r8\", vis.data$plant_id)] <- 'R187'"
   ]
  },
  {
   "cell_type": "code",
   "execution_count": null,
   "metadata": {
    "collapsed": true
   },
   "outputs": [],
   "source": [
    "# Add genotype x treatment group column\n",
    "vis.data$group = paste(vis.data$genotype,'-',vis.data$treatment,sep='')"
   ]
  },
  {
   "cell_type": "code",
   "execution_count": null,
   "metadata": {
    "collapsed": true
   },
   "outputs": [],
   "source": [
    "# Add calendar-time data column using the Unix-time data\n",
    "vis.data$date = as.POSIXct(vis.data$datetime, origin = \"1970-01-01\")"
   ]
  },
  {
   "cell_type": "code",
   "execution_count": null,
   "metadata": {
    "collapsed": true
   },
   "outputs": [],
   "source": [
    "# Calculate days after planting from planting data\n",
    "vis.data$dap = as.numeric(vis.data$date - planting_date)"
   ]
  },
  {
   "cell_type": "code",
   "execution_count": null,
   "metadata": {
    "collapsed": true
   },
   "outputs": [],
   "source": [
    "# Soil volume water content\n",
    "# Use linear regression to create a simple model for using water volume to predict soil volume water content\n",
    "vwc.data = read.table(file=\"./data/soil_weight_vwc.txt\", sep=\"\\t\", header=TRUE)\n",
    "# Create a linear model for water volume and volume water content. Water volumes >= 260 appear to have\n",
    "# saturated the soil water carrying capacity, so remove them from the model.\n",
    "vwc.lm = lm(vwc_wet ~ water_vol, data=vwc.data[vwc.data$water_vol < 260,])\n",
    "# Predict volume water contents for the water treatment groups\n",
    "treatment.water = data.frame(water_vol=c(217, 144.5, 72))\n",
    "treatment.water$vwc = predict(object = vwc.lm, newdata=treatment.water)"
   ]
  },
  {
   "cell_type": "code",
   "execution_count": null,
   "metadata": {
    "collapsed": true
   },
   "outputs": [],
   "source": [
    "# Convert VIS camera zoom units\n",
    "# LemnaTec VIS camera zoom units range from 1 to 6000, which correspond to 1 to 6X zoom\n",
    "zoom.lm = lm(zoom.camera ~ zoom, data=data.frame(zoom=c(1,6000), zoom.camera=c(1,6)))"
   ]
  },
  {
   "cell_type": "code",
   "execution_count": null,
   "metadata": {
    "collapsed": true
   },
   "outputs": [],
   "source": [
    "# VIS zoom correction\n",
    "# In this section we define models that are used to convert area and length between camera zoom levels\n",
    "# to a common scale.\n",
    "z.data = read.table(file=\"./data/zoom_calibration_data.txt\", sep=\"\\t\", header=TRUE)\n",
    "z.data$px_cm = z.data$length_px / z.data$length_cm\n",
    "# Convert LemnaTec zoom units to camera zoom units\n",
    "z.data$zoom.camera = predict(object = zoom.lm, newdata=z.data)\n",
    "vis.data$zoom = vis.data$sv_zoom\n",
    "vis.data$sv.zoom.camera = predict(object = zoom.lm, newdata=vis.data)\n",
    "vis.data$zoom = vis.data$tv_zoom\n",
    "vis.data$tv.zoom.camera = predict(object = zoom.lm, newdata=vis.data)"
   ]
  },
  {
   "cell_type": "code",
   "execution_count": null,
   "metadata": {
    "collapsed": true
   },
   "outputs": [],
   "source": [
    "# Zoom correction for area (exponential non-linear model)\n",
    "area.coef = coef(nls(log(rel_area) ~ log(a * exp(b * zoom.camera)), z.data, start = c(a = 1, b = 0.01)))\n",
    "area.coef = data.frame(a=area.coef[1], b=area.coef[2])\n",
    "area.nls = nls(rel_area ~ a * exp(b * zoom.camera), data = z.data, start=c(a=area.coef$a, b=area.coef$b))"
   ]
  },
  {
   "cell_type": "code",
   "execution_count": null,
   "metadata": {
    "collapsed": true
   },
   "outputs": [],
   "source": [
    "# Zoom correction for length (polynomial non-linear model)\n",
    "len.poly = lm(px_cm ~ zoom.camera + I(zoom.camera^2), data=z.data[z.data$camera == 'VIS SV',])"
   ]
  },
  {
   "cell_type": "code",
   "execution_count": null,
   "metadata": {
    "collapsed": true
   },
   "outputs": [],
   "source": [
    "# Correct VIS data for differences in camera zoom\n",
    "vis.data.zoom = vis.data[,c('plant_id', 'datetime', 'treatment', 'genotype', \n",
    "                            'group', 'date', 'dap', 'solidity', 'outlier')]\n",
    "# Predict relative area zoom correction factors\n",
    "vis.data$zoom.camera = vis.data$sv.zoom.camera\n",
    "vis.data$sv_rel_area = predict(object = area.nls, newdata = vis.data)\n",
    "vis.data$zoom.camera = vis.data$tv.zoom.camera\n",
    "vis.data$tv_rel_area = predict(object = area.nls, newdata = vis.data)\n",
    "# Calculate total zoom-corrected side-view and top-view area\n",
    "vis.data.zoom$sv_area = (vis.data$sv0_area / vis.data$sv_rel_area) + (vis.data$sv90_area / vis.data$sv_rel_area) +\n",
    "                        (vis.data$sv180_area / vis.data$sv_rel_area) + (vis.data$sv270_area / vis.data$sv_rel_area)\n",
    "\n",
    "vis.data.zoom$tv_area = vis.data$tv_area / vis.data$tv_rel_area"
   ]
  },
  {
   "cell_type": "code",
   "execution_count": null,
   "metadata": {
    "collapsed": true
   },
   "outputs": [],
   "source": [
    "# Calculate zoom-corrected lengths\n",
    "vis.data$zoom.camera = vis.data$sv.zoom.camera\n",
    "vis.data$px_cm = predict(object = len.poly, newdata=vis.data)\n",
    "vis.data.zoom$extent_x = vis.data$extent_x / vis.data$px_cm\n",
    "vis.data.zoom$extent_y = vis.data$extent_y / vis.data$px_cm\n",
    "vis.data.zoom$height_above_bound = vis.data$height_above_bound / vis.data$px_cm"
   ]
  },
  {
   "cell_type": "code",
   "execution_count": null,
   "metadata": {
    "collapsed": true
   },
   "outputs": [],
   "source": [
    "# Write cleaned table to file\n",
    "write.table(vis.data.zoom, file = \"vis_snapshots_cleaned.csv\", quote = FALSE, sep=\",\")"
   ]
  },
  {
   "cell_type": "code",
   "execution_count": null,
   "metadata": {
    "collapsed": true
   },
   "outputs": [],
   "source": []
  }
 ],
 "metadata": {
  "kernelspec": {
   "display_name": "R",
   "language": "R",
   "name": "ir"
  },
  "language_info": {
   "codemirror_mode": "r",
   "file_extension": ".r",
   "mimetype": "text/x-r-source",
   "name": "R",
   "pygments_lexer": "r",
   "version": "3.3.0"
  }
 },
 "nbformat": 4,
 "nbformat_minor": 1
}
